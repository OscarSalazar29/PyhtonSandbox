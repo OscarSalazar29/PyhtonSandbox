{
  "nbformat": 4,
  "nbformat_minor": 0,
  "metadata": {
    "colab": {
      "name": "PrimeraSesión.ipynb",
      "provenance": [],
      "collapsed_sections": [],
      "authorship_tag": "ABX9TyP1uFBjPNX7Xj70nHpufRIz",
      "include_colab_link": true
    },
    "kernelspec": {
      "name": "python3",
      "display_name": "Python 3"
    },
    "language_info": {
      "name": "python"
    }
  },
  "cells": [
    {
      "cell_type": "markdown",
      "metadata": {
        "id": "view-in-github",
        "colab_type": "text"
      },
      "source": [
        "<a href=\"https://colab.research.google.com/github/OscarSalazar29/PyhtonSandbox/blob/main/PrimeraSesi%C3%B3n.ipynb\" target=\"_parent\"><img src=\"https://colab.research.google.com/assets/colab-badge.svg\" alt=\"Open In Colab\"/></a>"
      ]
    },
    {
      "cell_type": "code",
      "execution_count": 1,
      "metadata": {
        "colab": {
          "base_uri": "https://localhost:8080/"
        },
        "id": "lG0J1W-AsGNG",
        "outputId": "20a10508-5c31-423f-a7e6-742546cc9705"
      },
      "outputs": [
        {
          "output_type": "stream",
          "name": "stdout",
          "text": [
            "Hello , world\n"
          ]
        }
      ],
      "source": [
        "print(\"Hello , world\")"
      ]
    },
    {
      "cell_type": "code",
      "source": [
        "#int\n",
        "x = 7\n",
        "print(\"valor de X: \", x)\n",
        "print(\"Tipo de X: \",type(x),\"\\n\")\n",
        "\n",
        "#float\n",
        "\n",
        "y = 7.0\n",
        "print(\"Valor de Y: \",y)\n",
        "print(\"Tipo de Y: \",type(y),\"\\n\")\n",
        "\n",
        "#complex\n",
        "E = complex(3,4)\n",
        "print(\"Valor de E: \",E)\n",
        "print(\"Tipo de E: \",type(E),\"\\n\")\n",
        "\n",
        "#string\n",
        "cad = 'hello'\n",
        "cad2 = \"Hello\"\n",
        "print(\"Valor de Cadena: \",cad2)\n",
        "print(\"Tipo de Cadena: \",type(cad),\"\\n\")\n",
        "\n",
        "#multiple assignation\n",
        "a , b, c = 2, 3, 4\n",
        "print(\"Valor de a: \",a,\"\\nValor de B: \",b,\"\\nValor de C: \",c)"
      ],
      "metadata": {
        "colab": {
          "base_uri": "https://localhost:8080/"
        },
        "id": "VXJ60XnUtItj",
        "outputId": "a47ae983-d5cb-4733-e03b-43c8f1df971a"
      },
      "execution_count": 11,
      "outputs": [
        {
          "output_type": "stream",
          "name": "stdout",
          "text": [
            "valor de X:  7\n",
            "Tipo de X:  <class 'int'> \n",
            "\n",
            "Valor de Y:  7.0\n",
            "Tipo de Y:  <class 'float'> \n",
            "\n",
            "Valor de E:  (3+4j)\n",
            "Tipo de E:  <class 'complex'> \n",
            "\n",
            "Valor de Cadena:  Hello\n",
            "Tipo de Cadena:  <class 'str'> \n",
            "\n",
            "Valor de a:  2 \n",
            "Valor de B:  3 \n",
            "Valor de C:  4\n"
          ]
        }
      ]
    },
    {
      "cell_type": "code",
      "source": [
        "Hola"
      ],
      "metadata": {
        "id": "bVTUzNE-wqFK"
      },
      "execution_count": null,
      "outputs": []
    }
  ]
}